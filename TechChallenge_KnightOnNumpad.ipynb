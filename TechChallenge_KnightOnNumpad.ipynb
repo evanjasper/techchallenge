{
 "cells": [
  {
   "cell_type": "markdown",
   "metadata": {},
   "source": [
    "# This notebook is intended to solve an old problem for the Data Incubator."
   ]
  },
  {
   "cell_type": "markdown",
   "metadata": {},
   "source": [
    "### The problem is as follows:"
   ]
  },
  {
   "cell_type": "markdown",
   "metadata": {},
   "source": [
    "A chess knight piece is sitting on the \"0\" key of  a numeric keypad.\n",
    "\n",
    "1\t2\t3  \n",
    "4\t5\t6  \n",
    "7\t8\t9  \n",
    "&nbsp;&nbsp;    0\t \n",
    " \n",
    "\n",
    " \n",
    "\n",
    "\n",
    "The knight makes T jumps to other keys according to its allowable moves (so that from each reachable key it has two or three allowable moves). The knight chooses amongst the allowable moves uniformly at random and keeps track of the running sum SS of keys on which it lands. We are interested in S under the modulo operator.\n",
    "\n",
    "After T=10T10 moves, what is the expected value of the quantity S mod 10?"
   ]
  },
  {
   "cell_type": "code",
   "execution_count": 1,
   "metadata": {},
   "outputs": [],
   "source": [
    "import random\n",
    "import time\n",
    "from decimal import *"
   ]
  },
  {
   "cell_type": "code",
   "execution_count": 2,
   "metadata": {},
   "outputs": [],
   "source": [
    "jumptable = {0:[4,6],1:[6,8],2:[7,9],3:[4,8],4:[0,3,9],5:[],6:[0,1,7],7:[2,6],8:[1,3],9:[2,4]}"
   ]
  },
  {
   "cell_type": "code",
   "execution_count": 79,
   "metadata": {},
   "outputs": [],
   "source": [
    "def jump(steps):\n",
    "    out = 0\n",
    "    p = 1\n",
    "    for i in range(steps):\n",
    "        p *= Decimal(1)/Decimal(len(jumptable[out]))\n",
    "        out = random.choice(jumptable[out])\n",
    "    return [out,p]"
   ]
  },
  {
   "cell_type": "code",
   "execution_count": 80,
   "metadata": {},
   "outputs": [],
   "source": [
    "def jump2(steps):\n",
    "    out = 0\n",
    "    p = Decimal(1)\n",
    "    path = [0]\n",
    "    for i in range(steps):\n",
    "        p /= Decimal(len(jumptable[out]))\n",
    "        out = random.choice(jumptable[out])\n",
    "        path.append(out)\n",
    "    return [sum(path)%10,p]"
   ]
  },
  {
   "cell_type": "code",
   "execution_count": 81,
   "metadata": {},
   "outputs": [
    {
     "name": "stdout",
     "output_type": "stream",
     "text": [
      "[7, Decimal('0.0004340277777777777777777777775')]\n",
      "0.00036787986755371094\n"
     ]
    }
   ],
   "source": [
    "st=time.time()\n",
    "print(jump(10))\n",
    "print(time.time()-st)"
   ]
  },
  {
   "cell_type": "code",
   "execution_count": 82,
   "metadata": {},
   "outputs": [
    {
     "name": "stdout",
     "output_type": "stream",
     "text": [
      "[6, Decimal('0.000289351851851851851851851852')]\n",
      "0.0002892017364501953\n"
     ]
    }
   ],
   "source": [
    "st=time.time()\n",
    "print(jump2(10))\n",
    "print(time.time()-st)"
   ]
  },
  {
   "cell_type": "markdown",
   "metadata": {},
   "source": [
    "## This is a sloppy way to estimate the expectation"
   ]
  },
  {
   "cell_type": "markdown",
   "metadata": {},
   "source": [
    "It should only work for very small values of steps.\n",
    "Really really don't try large values of steps here. 20 steps took ~10 minutes\n",
    "\n",
    "It's amazing how quickly you can make unworkable code."
   ]
  },
  {
   "cell_type": "code",
   "execution_count": 83,
   "metadata": {},
   "outputs": [],
   "source": [
    "def estavg(steps):#returns the average and the execution time\n",
    "    psum = 0\n",
    "    resultlist = []\n",
    "    st = time.time()\n",
    "    while psum < 1:\n",
    "        a = jump(steps)\n",
    "        resultlist.append(a[0])\n",
    "        psum += a[1]\n",
    "    return sum(resultlist)/len(resultlist), time.time()-st"
   ]
  },
  {
   "cell_type": "code",
   "execution_count": 86,
   "metadata": {},
   "outputs": [],
   "source": [
    "def estexp(steps):#returns the average and the execution time\n",
    "    psum = 0\n",
    "    resultlist = 0\n",
    "    st = time.time()\n",
    "    while psum < 1:\n",
    "        a = jump2(steps)\n",
    "        resultlist += a[0]*a[1]\n",
    "        psum += a[1]\n",
    "    return resultlist, time.time()-st"
   ]
  },
  {
   "cell_type": "code",
   "execution_count": 92,
   "metadata": {},
   "outputs": [
    {
     "name": "stdout",
     "output_type": "stream",
     "text": [
      "4.617353354873971193415637762\n"
     ]
    }
   ],
   "source": [
    "avgexp = 0\n",
    "iterations = 200\n",
    "for i in range(iterations):\n",
    "    avgexp += estexp(10)[0]\n",
    "print(avgexp/iterations)"
   ]
  },
  {
   "cell_type": "markdown",
   "metadata": {},
   "source": [
    "## Let's try something a bit more methodical/mathematical"
   ]
  },
  {
   "cell_type": "markdown",
   "metadata": {},
   "source": [
    "Also apparently there was a reading comprehension failure. We care about the expectation of the modulo sum."
   ]
  },
  {
   "cell_type": "markdown",
   "metadata": {},
   "source": [
    "The expectation comes from the sum of all \"paths\" the knight can take."
   ]
  },
  {
   "cell_type": "code",
   "execution_count": 12,
   "metadata": {},
   "outputs": [],
   "source": [
    "def jumprecord(steps):\n",
    "    out = 0\n",
    "    p = 1\n",
    "    record=[]\n",
    "    for i in range(steps):\n",
    "        p *= Decimal(1)/Decimal(len(jumptable[out]))\n",
    "        out = random.choice(jumptable[out])\n",
    "        record.append(out)\n",
    "    return sum(record)%10,record"
   ]
  },
  {
   "cell_type": "code",
   "execution_count": 13,
   "metadata": {},
   "outputs": [],
   "source": [
    "def pathstep(pathlist):#paths should be a list of paths\n",
    "    newpathlist = []\n",
    "    for path in pathlist:\n",
    "        for jump in jumptable[path[-1]]:\n",
    "            newpath = path.copy()\n",
    "            newpath.append(jump)\n",
    "            newpathlist.append((newpath))\n",
    "    return newpathlist"
   ]
  },
  {
   "cell_type": "code",
   "execution_count": 51,
   "metadata": {},
   "outputs": [],
   "source": [
    "def findexp(path):\n",
    "    prob = Decimal(1)\n",
    "    pathcopy = path.copy()\n",
    "    pathcopy.pop()\n",
    "    while pathcopy:\n",
    "        if pathcopy[-1] == 4 or pathcopy[-1] == 6:\n",
    "            prob /= Decimal(3)\n",
    "        else:\n",
    "            prob /= Decimal(2)\n",
    "        pathcopy.pop()\n",
    "    #print(sum(path),len(path))\n",
    "    summod = sum(path)%10\n",
    "    return summod*prob"
   ]
  },
  {
   "cell_type": "code",
   "execution_count": 61,
   "metadata": {},
   "outputs": [],
   "source": [
    "paths = [[0]]\n",
    "for i in range(17):\n",
    "    paths = pathstep(paths)\n",
    "#print(paths)"
   ]
  },
  {
   "cell_type": "code",
   "execution_count": 62,
   "metadata": {},
   "outputs": [
    {
     "name": "stdout",
     "output_type": "stream",
     "text": [
      "4.475802802545343697607061862\n"
     ]
    }
   ],
   "source": [
    "expectation = 0\n",
    "for i in paths:\n",
    "    expectation += findexp(i)\n",
    "print(expectation)"
   ]
  },
  {
   "cell_type": "markdown",
   "metadata": {},
   "source": [
    "## Is it possible to make something more scalable?"
   ]
  },
  {
   "cell_type": "markdown",
   "metadata": {},
   "source": [
    "Finding all the paths for a number of jumps greater than ~15 starts to slow down a lot. Is it possible to keep a running record of the expectation?"
   ]
  },
  {
   "cell_type": "markdown",
   "metadata": {},
   "source": [
    "The brief I read was unclear on the number of steps/jumps that the knight should take. If 10 steps is enough, then this is solved. If 10000 steps are needed, then a fundamentally different way of thinking about the problem will be necessary."
   ]
  },
  {
   "cell_type": "code",
   "execution_count": null,
   "metadata": {},
   "outputs": [],
   "source": []
  }
 ],
 "metadata": {
  "kernelspec": {
   "display_name": "Python 3",
   "language": "python",
   "name": "python3"
  },
  "language_info": {
   "codemirror_mode": {
    "name": "ipython",
    "version": 3
   },
   "file_extension": ".py",
   "mimetype": "text/x-python",
   "name": "python",
   "nbconvert_exporter": "python",
   "pygments_lexer": "ipython3",
   "version": "3.7.3"
  }
 },
 "nbformat": 4,
 "nbformat_minor": 2
}
